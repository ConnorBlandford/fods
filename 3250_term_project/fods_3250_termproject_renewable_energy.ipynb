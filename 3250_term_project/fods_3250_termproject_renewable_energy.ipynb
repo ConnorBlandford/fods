{
 "cells": [
  {
   "cell_type": "code",
   "execution_count": null,
   "id": "eaacc109",
   "metadata": {},
   "outputs": [],
   "source": [
    "import pandas as pd\n",
    "import matplotlib.pyplot as plt\n",
    "from matplotlib.backends.backend_pdf import PdfPages\n",
    "import matplotlib.dates as mdates\n",
    "from statsmodels.tsa.arima_model import ARIMA\n",
    "\n",
    "import datetime as dt\n",
    "import seaborn as sns\n",
    "\n",
    "# import pycountry\n",
    "# import country_converter as coco\n",
    "# import warnings\n",
    "\n",
    "# warnings.filterwarnings('ignore')\n",
    "\n",
    "rn_con_col_names = ['Country','Code','Year','Other','Solar','Wind','Hydro']\n",
    "rn_cap_col_names = ['Country','Code','Year','Wind','Hydro','Solar','Other']\n",
    "\n",
    "rn_con = pd.read_csv('data/modern-renewable-energy-consumption.csv',\n",
    "                     header=0,\n",
    "                     names=rn_con_col_names)\n",
    "rn_cap = pd.read_csv('data/modern-renewable-prod.csv',\n",
    "                     header=0,\n",
    "                     names=rn_cap_col_names)\n",
    "\n",
    "rn_con = rn_con[rn_cap_col_names]\n",
    "rn_cap = rn_cap[rn_cap_col_names]\n",
    "\n",
    "rn_con.drop(columns='Code',inplace=True)\n",
    "rn_cap.drop(columns='Code',inplace=True)\n",
    "\n",
    "rn_con.info()\n",
    "rn_cap.info()"
   ]
  },
  {
   "cell_type": "code",
   "execution_count": null,
   "id": "5c6a49bd",
   "metadata": {},
   "outputs": [],
   "source": [
    "rn_con.head()"
   ]
  },
  {
   "cell_type": "code",
   "execution_count": null,
   "id": "3cf4878b",
   "metadata": {},
   "outputs": [],
   "source": [
    "rn_cap.head()"
   ]
  },
  {
   "cell_type": "markdown",
   "id": "8a15fd23",
   "metadata": {},
   "source": [
    "Get a [list of South American Countries](https://en.wikipedia.org/wiki/List_of_South_American_countries_by_population) from Wikipedia"
   ]
  },
  {
   "cell_type": "code",
   "execution_count": null,
   "id": "d28fc5e8",
   "metadata": {},
   "outputs": [],
   "source": [
    "# List of South American Countries from Wikipedia\n",
    "Countries_SA = ['Brazil','Colombia','Argentina','Peru','Venezuela','Chile',\n",
    "                'Ecuador','Bolivia','Paraguay','Uruguay','Guyana','Suriname',\n",
    "                'French Guiana','Falkland Islands']\n",
    "Continent    = 'South America'\n",
    "\n",
    "print(f\"In South America there are {len(Countries_SA)} Countries.\")\n"
   ]
  },
  {
   "cell_type": "code",
   "execution_count": null,
   "id": "66c9637d",
   "metadata": {},
   "outputs": [],
   "source": [
    "sa_rn_con    = rn_con[rn_con['Country'].isin(Countries_SA)]\n",
    "sa_rn_cap    = rn_cap[rn_cap['Country'].isin(Countries_SA)]\n",
    "\n",
    "SA_rn_con    = rn_con[rn_con['Country']==Continent]\n",
    "SA_rn_cap    = rn_cap[rn_cap['Country']==Continent]\n",
    "\n",
    "sa_rn_con.sort_values(by=['Year'], axis=0, ascending=True, inplace=True)\n",
    "sa_rn_cap.sort_values(by=['Year'], axis=0, ascending=True, inplace=True)\n",
    "SA_rn_con.sort_values(by=['Year'], axis=0, ascending=True, inplace=True)\n",
    "SA_rn_cap.sort_values(by=['Year'], axis=0, ascending=True, inplace=True)\n",
    "\n",
    "sa_rn_con.info()\n",
    "sa_rn_cap.info()\n",
    "SA_rn_con.info()\n",
    "SA_rn_cap.info()"
   ]
  },
  {
   "cell_type": "code",
   "execution_count": null,
   "id": "a8444ac9",
   "metadata": {},
   "outputs": [],
   "source": [
    "fig_array = []\n",
    "fig_title = 'South American Energy Consumption by Country'\n",
    "\n",
    "for title, group in sa_rn_con.groupby(['Country']):\n",
    "    fig, ax = plt.subplots(nrows=1, ncols=1)\n",
    "    group.plot(kind='line',x='Year', title=f\"{title} - Consumption\", ax=ax)\n",
    "    ax.set_ylabel('Energy Consumed [TWh]')\n",
    "    ax.set_xlabel('Year')\n",
    "    fig_array.append(fig)\n",
    "    \n",
    "with PdfPages(f'Output/{fig_title}.pdf') as pdf:\n",
    "    for fig in fig_array:\n",
    "        pdf.savefig(fig)  # saves the current figure into a pdf page\n",
    "\n",
    "    # We can also set the file's metadata via the PdfPages object:\n",
    "    d = pdf.infodict()\n",
    "    d['Title'] = f'South American Energy Consumption by Country'\n",
    "    d['Author'] = 'Connor Blandford'\n",
    "    d['CreationDate'] = dt.datetime.today()\n",
    "\n",
    "    \n",
    "fig_array = []\n",
    "fig_title = 'South American Energy Generation by Country'\n",
    "\n",
    "for title, group in sa_rn_cap.groupby(['Country']):\n",
    "    fig, ax = plt.subplots(nrows=1, ncols=1)\n",
    "    group.plot(kind='line',x='Year', title=f\"{title} - Generation\", ax=ax)\n",
    "    ax.set_ylabel('Energy Consumed [TWh]')\n",
    "    ax.set_xlabel('Year')\n",
    "    fig_array.append(fig)\n",
    "    \n",
    "with PdfPages(f'Output/{fig_title}.pdf') as pdf:\n",
    "    for fig in fig_array:\n",
    "        pdf.savefig(fig)  # saves the current figure into a pdf page\n",
    "\n",
    "    # We can also set the file's metadata via the PdfPages object:\n",
    "    d = pdf.infodict()\n",
    "    d['Title'] = f'South American Energy Generation by Country'\n",
    "    d['Author'] = 'Connor Blandford'\n",
    "    d['CreationDate'] = dt.datetime.today()"
   ]
  },
  {
   "cell_type": "raw",
   "id": "1fc6ee9a",
   "metadata": {},
   "source": [
    "fig_array = []\n",
    "fig_title = 'South American Energy Generation & Consumption'\n",
    "\n",
    "for title, group in SA_rn_con.groupby(['Country']):\n",
    "    fig, ax = plt.subplots(nrows=1, ncols=1)\n",
    "    group.plot(kind='line',x='Year', title=f\"{title} - Consumption\", ax=ax)\n",
    "    ax.set_ylabel('Energy Consumed [TWh]')\n",
    "    ax.set_xlabel('Year')\n",
    "    fig_array.append(fig)\n",
    "\n",
    "for title, group in SA_rn_cap.groupby(['Country']):\n",
    "    fig, ax = plt.subplots(nrows=1, ncols=1)\n",
    "    group.plot(kind='line',x='Year', title=f\"{title} - Generation\", ax=ax)\n",
    "    ax.set_ylabel('Energy Consumed [TWh]')\n",
    "    ax.set_xlabel('Year')\n",
    "    fig_array.append(fig)\n",
    "    \n",
    "with PdfPages(f'Output/{fig_title}.pdf') as pdf:\n",
    "    for fig in fig_array:\n",
    "        pdf.savefig(fig)  # saves the current figure into a pdf page\n",
    "\n",
    "    # We can also set the file's metadata via the PdfPages object:\n",
    "    d = pdf.infodict()\n",
    "    d['Title'] = f'South American Energy Generation & Consumption'\n",
    "    d['Author'] = 'Connor Blandford'\n",
    "    d['CreationDate'] = dt.datetime.today()\n"
   ]
  },
  {
   "cell_type": "code",
   "execution_count": null,
   "id": "a391e62d",
   "metadata": {},
   "outputs": [],
   "source": [
    "# cap_country_code = pd.DataFrame(coco.convert(names=rn_cap['Country'], to='continent'))\n",
    "# cap_country_code[country_code=='America'].head(20)\n",
    "# rn_cap[(cap_country_code=='America')[0]]"
   ]
  },
  {
   "cell_type": "code",
   "execution_count": null,
   "id": "53e100e1",
   "metadata": {},
   "outputs": [],
   "source": [
    "# con_country_code = pd.DataFrame(coco.convert(names=rn_con['Country'].unique(), to='continent'))\n",
    "# con_country_code[country_code=='America'].head(20)"
   ]
  }
 ],
 "metadata": {
  "kernelspec": {
   "display_name": "Python 3 (ipykernel)",
   "language": "python",
   "name": "python3"
  },
  "language_info": {
   "codemirror_mode": {
    "name": "ipython",
    "version": 3
   },
   "file_extension": ".py",
   "mimetype": "text/x-python",
   "name": "python",
   "nbconvert_exporter": "python",
   "pygments_lexer": "ipython3",
   "version": "3.11.4"
  }
 },
 "nbformat": 4,
 "nbformat_minor": 5
}
