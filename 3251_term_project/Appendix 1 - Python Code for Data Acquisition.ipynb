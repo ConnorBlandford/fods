{
 "cells": [
  {
   "cell_type": "markdown",
   "metadata": {},
   "source": [
    "### TTC Data Download\n",
    "\n",
    "Downloading TTC Streetcar data through their API. 'id' is modified to download bus and subway data.\n",
    "\n",
    "We first print all of the files in this package and then download them in this folder."
   ]
  },
  {
   "cell_type": "code",
   "execution_count": 1,
   "metadata": {},
   "outputs": [
    {
     "name": "stdout",
     "output_type": "stream",
     "text": [
      "0, ttc-streetcar-delay-data-readme, {'cache_last_updated': None, 'cache_url': None, 'created': '2019-07-23T18:12:22.590326', 'datastore_active': False, 'format': 'XLSX', 'hash': '', 'id': '0fe61851-c67b-49bc-8c27-3a89b33b43af', 'is_datastore_cache_file': False, 'is_preview': 'False', 'last_modified': '2022-04-05T19:14:38', 'metadata_modified': '2022-04-12T18:45:32.386401', 'mimetype': 'application/vnd.openxmlformats-officedocument.spreadsheetml.sheet', 'mimetype_inner': None, 'name': 'ttc-streetcar-delay-data-readme', 'package_id': 'b68cb71b-44a7-4394-97e2-5d2f41462a5d', 'position': 0, 'resource_type': None, 'revision_id': '3cfbbfd6-02f1-4f06-ae0c-df11d4485b90', 'size': 12886, 'state': 'active', 'url': 'https://ckan0.cf.opendata.inter.prod-toronto.ca/dataset/b68cb71b-44a7-4394-97e2-5d2f41462a5d/resource/0fe61851-c67b-49bc-8c27-3a89b33b43af/download/ttc-streetcar-delay-data-readme.xlsx', 'url_type': 'upload'}\n",
      "{'help': 'https://ckan0.cf.opendata.inter.prod-toronto.ca/api/3/action/help_show?name=resource_show', 'success': True, 'result': {'cache_last_updated': None, 'cache_url': None, 'created': '2019-07-23T18:12:22.590326', 'datastore_active': False, 'format': 'XLSX', 'hash': '', 'id': '0fe61851-c67b-49bc-8c27-3a89b33b43af', 'is_datastore_cache_file': False, 'is_preview': 'False', 'last_modified': '2022-04-05T19:14:38', 'metadata_modified': '2022-04-12T18:45:32.386401', 'mimetype': 'application/vnd.openxmlformats-officedocument.spreadsheetml.sheet', 'mimetype_inner': None, 'name': 'ttc-streetcar-delay-data-readme', 'package_id': 'b68cb71b-44a7-4394-97e2-5d2f41462a5d', 'position': 0, 'resource_type': None, 'revision_id': '3cfbbfd6-02f1-4f06-ae0c-df11d4485b90', 'size': 12886, 'state': 'active', 'url': 'https://ckan0.cf.opendata.inter.prod-toronto.ca/dataset/b68cb71b-44a7-4394-97e2-5d2f41462a5d/resource/0fe61851-c67b-49bc-8c27-3a89b33b43af/download/ttc-streetcar-delay-data-readme.xlsx', 'url_type': 'upload'}}\n",
      "1, ttc-streetcar-delay-data-2014, {'cache_last_updated': None, 'cache_url': None, 'created': '2019-07-23T18:12:15.225295', 'datastore_active': False, 'format': 'XLSX', 'hash': '', 'id': '09c9096f-b1bb-47fa-b2fd-55362d8e2bbd', 'is_datastore_cache_file': False, 'is_preview': 'False', 'last_modified': '2022-04-05T19:14:34', 'metadata_modified': '2022-04-12T18:45:34.741943', 'mimetype': 'application/vnd.openxmlformats-officedocument.spreadsheetml.sheet', 'mimetype_inner': None, 'name': 'ttc-streetcar-delay-data-2014', 'package_id': 'b68cb71b-44a7-4394-97e2-5d2f41462a5d', 'position': 1, 'resource_type': None, 'revision_id': '3cfbbfd6-02f1-4f06-ae0c-df11d4485b90', 'size': 822301, 'state': 'active', 'url': 'https://ckan0.cf.opendata.inter.prod-toronto.ca/dataset/b68cb71b-44a7-4394-97e2-5d2f41462a5d/resource/09c9096f-b1bb-47fa-b2fd-55362d8e2bbd/download/ttc-streetcar-delay-data-2014.xlsx', 'url_type': 'upload'}\n",
      "{'help': 'https://ckan0.cf.opendata.inter.prod-toronto.ca/api/3/action/help_show?name=resource_show', 'success': True, 'result': {'cache_last_updated': None, 'cache_url': None, 'created': '2019-07-23T18:12:15.225295', 'datastore_active': False, 'format': 'XLSX', 'hash': '', 'id': '09c9096f-b1bb-47fa-b2fd-55362d8e2bbd', 'is_datastore_cache_file': False, 'is_preview': 'False', 'last_modified': '2022-04-05T19:14:34', 'metadata_modified': '2022-04-12T18:45:34.741943', 'mimetype': 'application/vnd.openxmlformats-officedocument.spreadsheetml.sheet', 'mimetype_inner': None, 'name': 'ttc-streetcar-delay-data-2014', 'package_id': 'b68cb71b-44a7-4394-97e2-5d2f41462a5d', 'position': 1, 'resource_type': None, 'revision_id': '3cfbbfd6-02f1-4f06-ae0c-df11d4485b90', 'size': 822301, 'state': 'active', 'url': 'https://ckan0.cf.opendata.inter.prod-toronto.ca/dataset/b68cb71b-44a7-4394-97e2-5d2f41462a5d/resource/09c9096f-b1bb-47fa-b2fd-55362d8e2bbd/download/ttc-streetcar-delay-data-2014.xlsx', 'url_type': 'upload'}}\n",
      "2, ttc-streetcar-delay-data-2015, {'cache_last_updated': None, 'cache_url': None, 'created': '2019-07-23T18:12:16.606150', 'datastore_active': False, 'format': 'XLSX', 'hash': '', 'id': '1ca48483-80b3-473b-9b0b-8c633b071054', 'is_datastore_cache_file': False, 'is_preview': 'False', 'last_modified': '2022-04-05T19:14:34', 'metadata_modified': '2022-04-12T19:00:11.643185', 'mimetype': 'application/vnd.openxmlformats-officedocument.spreadsheetml.sheet', 'mimetype_inner': None, 'name': 'ttc-streetcar-delay-data-2015', 'package_id': 'b68cb71b-44a7-4394-97e2-5d2f41462a5d', 'position': 2, 'resource_type': None, 'revision_id': '3cfbbfd6-02f1-4f06-ae0c-df11d4485b90', 'size': 910656, 'state': 'active', 'url': 'https://ckan0.cf.opendata.inter.prod-toronto.ca/dataset/b68cb71b-44a7-4394-97e2-5d2f41462a5d/resource/1ca48483-80b3-473b-9b0b-8c633b071054/download/ttc-streetcar-delay-data-2015.xlsx', 'url_type': 'upload'}\n",
      "{'help': 'https://ckan0.cf.opendata.inter.prod-toronto.ca/api/3/action/help_show?name=resource_show', 'success': True, 'result': {'cache_last_updated': None, 'cache_url': None, 'created': '2019-07-23T18:12:16.606150', 'datastore_active': False, 'format': 'XLSX', 'hash': '', 'id': '1ca48483-80b3-473b-9b0b-8c633b071054', 'is_datastore_cache_file': False, 'is_preview': 'False', 'last_modified': '2022-04-05T19:14:34', 'metadata_modified': '2022-04-12T19:00:11.643185', 'mimetype': 'application/vnd.openxmlformats-officedocument.spreadsheetml.sheet', 'mimetype_inner': None, 'name': 'ttc-streetcar-delay-data-2015', 'package_id': 'b68cb71b-44a7-4394-97e2-5d2f41462a5d', 'position': 2, 'resource_type': None, 'revision_id': '3cfbbfd6-02f1-4f06-ae0c-df11d4485b90', 'size': 910656, 'state': 'active', 'url': 'https://ckan0.cf.opendata.inter.prod-toronto.ca/dataset/b68cb71b-44a7-4394-97e2-5d2f41462a5d/resource/1ca48483-80b3-473b-9b0b-8c633b071054/download/ttc-streetcar-delay-data-2015.xlsx', 'url_type': 'upload'}}\n",
      "3, ttc-streetcar-delay-data-2016, {'cache_last_updated': None, 'cache_url': None, 'created': '2019-07-23T18:12:17.957690', 'datastore_active': False, 'format': 'XLSX', 'hash': '', 'id': '62714aea-ce26-4aac-9e61-c6bb9d09fc0e', 'is_datastore_cache_file': False, 'is_preview': 'False', 'last_modified': '2022-04-05T19:14:32', 'metadata_modified': '2022-04-12T18:45:40.426304', 'mimetype': 'application/vnd.openxmlformats-officedocument.spreadsheetml.sheet', 'mimetype_inner': None, 'name': 'ttc-streetcar-delay-data-2016', 'package_id': 'b68cb71b-44a7-4394-97e2-5d2f41462a5d', 'position': 3, 'resource_type': None, 'revision_id': '3cfbbfd6-02f1-4f06-ae0c-df11d4485b90', 'size': 1030100, 'state': 'active', 'url': 'https://ckan0.cf.opendata.inter.prod-toronto.ca/dataset/b68cb71b-44a7-4394-97e2-5d2f41462a5d/resource/62714aea-ce26-4aac-9e61-c6bb9d09fc0e/download/ttc-streetcar-delay-data-2016.xlsx', 'url_type': 'upload'}\n",
      "{'help': 'https://ckan0.cf.opendata.inter.prod-toronto.ca/api/3/action/help_show?name=resource_show', 'success': True, 'result': {'cache_last_updated': None, 'cache_url': None, 'created': '2019-07-23T18:12:17.957690', 'datastore_active': False, 'format': 'XLSX', 'hash': '', 'id': '62714aea-ce26-4aac-9e61-c6bb9d09fc0e', 'is_datastore_cache_file': False, 'is_preview': 'False', 'last_modified': '2022-04-05T19:14:32', 'metadata_modified': '2022-04-12T18:45:40.426304', 'mimetype': 'application/vnd.openxmlformats-officedocument.spreadsheetml.sheet', 'mimetype_inner': None, 'name': 'ttc-streetcar-delay-data-2016', 'package_id': 'b68cb71b-44a7-4394-97e2-5d2f41462a5d', 'position': 3, 'resource_type': None, 'revision_id': '3cfbbfd6-02f1-4f06-ae0c-df11d4485b90', 'size': 1030100, 'state': 'active', 'url': 'https://ckan0.cf.opendata.inter.prod-toronto.ca/dataset/b68cb71b-44a7-4394-97e2-5d2f41462a5d/resource/62714aea-ce26-4aac-9e61-c6bb9d09fc0e/download/ttc-streetcar-delay-data-2016.xlsx', 'url_type': 'upload'}}\n",
      "4, ttc-streetcar-delay-data-2017, {'cache_last_updated': None, 'cache_url': None, 'created': '2019-07-23T18:12:19.506225', 'datastore_active': False, 'format': 'XLSX', 'hash': '', 'id': 'a6a730a7-25d1-4e77-98e7-cc14e79fd5f6', 'is_datastore_cache_file': False, 'is_preview': 'False', 'last_modified': '2022-04-05T19:14:32', 'metadata_modified': '2022-04-12T18:45:44.446319', 'mimetype': 'application/vnd.openxmlformats-officedocument.spreadsheetml.sheet', 'mimetype_inner': None, 'name': 'ttc-streetcar-delay-data-2017', 'package_id': 'b68cb71b-44a7-4394-97e2-5d2f41462a5d', 'position': 4, 'resource_type': None, 'revision_id': '3cfbbfd6-02f1-4f06-ae0c-df11d4485b90', 'size': 2085182, 'state': 'active', 'url': 'https://ckan0.cf.opendata.inter.prod-toronto.ca/dataset/b68cb71b-44a7-4394-97e2-5d2f41462a5d/resource/a6a730a7-25d1-4e77-98e7-cc14e79fd5f6/download/ttc-streetcar-delay-data-2017.xlsx', 'url_type': 'upload'}\n",
      "{'help': 'https://ckan0.cf.opendata.inter.prod-toronto.ca/api/3/action/help_show?name=resource_show', 'success': True, 'result': {'cache_last_updated': None, 'cache_url': None, 'created': '2019-07-23T18:12:19.506225', 'datastore_active': False, 'format': 'XLSX', 'hash': '', 'id': 'a6a730a7-25d1-4e77-98e7-cc14e79fd5f6', 'is_datastore_cache_file': False, 'is_preview': 'False', 'last_modified': '2022-04-05T19:14:32', 'metadata_modified': '2022-04-12T18:45:44.446319', 'mimetype': 'application/vnd.openxmlformats-officedocument.spreadsheetml.sheet', 'mimetype_inner': None, 'name': 'ttc-streetcar-delay-data-2017', 'package_id': 'b68cb71b-44a7-4394-97e2-5d2f41462a5d', 'position': 4, 'resource_type': None, 'revision_id': '3cfbbfd6-02f1-4f06-ae0c-df11d4485b90', 'size': 2085182, 'state': 'active', 'url': 'https://ckan0.cf.opendata.inter.prod-toronto.ca/dataset/b68cb71b-44a7-4394-97e2-5d2f41462a5d/resource/a6a730a7-25d1-4e77-98e7-cc14e79fd5f6/download/ttc-streetcar-delay-data-2017.xlsx', 'url_type': 'upload'}}\n",
      "5, ttc-streetcar-delay-data-2018, {'cache_last_updated': None, 'cache_url': None, 'created': '2019-07-23T18:12:20.761795', 'datastore_active': False, 'format': 'XLSX', 'hash': '', 'id': '75bae9cb-b5ec-483e-b339-ba2d0002dd88', 'is_datastore_cache_file': False, 'is_preview': 'False', 'last_modified': '2022-04-05T19:14:30', 'metadata_modified': '2022-04-12T18:45:46.569727', 'mimetype': 'application/vnd.openxmlformats-officedocument.spreadsheetml.sheet', 'mimetype_inner': None, 'name': 'ttc-streetcar-delay-data-2018', 'package_id': 'b68cb71b-44a7-4394-97e2-5d2f41462a5d', 'position': 5, 'resource_type': None, 'revision_id': '3cfbbfd6-02f1-4f06-ae0c-df11d4485b90', 'size': 1021294, 'state': 'active', 'url': 'https://ckan0.cf.opendata.inter.prod-toronto.ca/dataset/b68cb71b-44a7-4394-97e2-5d2f41462a5d/resource/75bae9cb-b5ec-483e-b339-ba2d0002dd88/download/ttc-streetcar-delay-data-2018.xlsx', 'url_type': 'upload'}\n"
     ]
    },
    {
     "name": "stdout",
     "output_type": "stream",
     "text": [
      "{'help': 'https://ckan0.cf.opendata.inter.prod-toronto.ca/api/3/action/help_show?name=resource_show', 'success': True, 'result': {'cache_last_updated': None, 'cache_url': None, 'created': '2019-07-23T18:12:20.761795', 'datastore_active': False, 'format': 'XLSX', 'hash': '', 'id': '75bae9cb-b5ec-483e-b339-ba2d0002dd88', 'is_datastore_cache_file': False, 'is_preview': 'False', 'last_modified': '2022-04-05T19:14:30', 'metadata_modified': '2022-04-12T18:45:46.569727', 'mimetype': 'application/vnd.openxmlformats-officedocument.spreadsheetml.sheet', 'mimetype_inner': None, 'name': 'ttc-streetcar-delay-data-2018', 'package_id': 'b68cb71b-44a7-4394-97e2-5d2f41462a5d', 'position': 5, 'resource_type': None, 'revision_id': '3cfbbfd6-02f1-4f06-ae0c-df11d4485b90', 'size': 1021294, 'state': 'active', 'url': 'https://ckan0.cf.opendata.inter.prod-toronto.ca/dataset/b68cb71b-44a7-4394-97e2-5d2f41462a5d/resource/75bae9cb-b5ec-483e-b339-ba2d0002dd88/download/ttc-streetcar-delay-data-2018.xlsx', 'url_type': 'upload'}}\n",
      "6, ttc-streetcar-delay-data-2019, {'cache_last_updated': None, 'cache_url': None, 'created': '2019-07-23T18:12:21.771553', 'datastore_active': False, 'format': 'XLSX', 'hash': '', 'id': '437a5889-2bc9-4bd3-9561-0ae4a9722655', 'is_datastore_cache_file': False, 'is_preview': 'True', 'last_modified': '2022-04-05T19:14:00', 'metadata_modified': '2022-04-12T18:45:49.226782', 'mimetype': 'application/vnd.openxmlformats-officedocument.spreadsheetml.sheet', 'mimetype_inner': None, 'name': 'ttc-streetcar-delay-data-2019', 'package_id': 'b68cb71b-44a7-4394-97e2-5d2f41462a5d', 'position': 6, 'resource_type': None, 'revision_id': '3cfbbfd6-02f1-4f06-ae0c-df11d4485b90', 'size': 759867, 'state': 'active', 'url': 'https://ckan0.cf.opendata.inter.prod-toronto.ca/dataset/b68cb71b-44a7-4394-97e2-5d2f41462a5d/resource/437a5889-2bc9-4bd3-9561-0ae4a9722655/download/ttc-streetcar-delay-data-2019.xlsx', 'url_type': 'upload'}\n",
      "{'help': 'https://ckan0.cf.opendata.inter.prod-toronto.ca/api/3/action/help_show?name=resource_show', 'success': True, 'result': {'cache_last_updated': None, 'cache_url': None, 'created': '2019-07-23T18:12:21.771553', 'datastore_active': False, 'format': 'XLSX', 'hash': '', 'id': '437a5889-2bc9-4bd3-9561-0ae4a9722655', 'is_datastore_cache_file': False, 'is_preview': 'True', 'last_modified': '2022-04-05T19:14:00', 'metadata_modified': '2022-04-12T18:45:49.226782', 'mimetype': 'application/vnd.openxmlformats-officedocument.spreadsheetml.sheet', 'mimetype_inner': None, 'name': 'ttc-streetcar-delay-data-2019', 'package_id': 'b68cb71b-44a7-4394-97e2-5d2f41462a5d', 'position': 6, 'resource_type': None, 'revision_id': '3cfbbfd6-02f1-4f06-ae0c-df11d4485b90', 'size': 759867, 'state': 'active', 'url': 'https://ckan0.cf.opendata.inter.prod-toronto.ca/dataset/b68cb71b-44a7-4394-97e2-5d2f41462a5d/resource/437a5889-2bc9-4bd3-9561-0ae4a9722655/download/ttc-streetcar-delay-data-2019.xlsx', 'url_type': 'upload'}}\n",
      "7, ttc-streetcar-delay-data-2020\t, {'cache_last_updated': None, 'cache_url': None, 'created': '2020-04-28T17:01:51.308963', 'datastore_active': False, 'format': 'XLSX', 'hash': '', 'id': '71b8b735-8a89-45a9-afb0-3edc38b2fad9', 'is_datastore_cache_file': False, 'is_preview': 'False', 'last_modified': '2022-04-12T17:28:44.915291', 'metadata_modified': '2022-04-12T17:28:44.978638', 'mimetype': 'application/vnd.openxmlformats-officedocument.spreadsheetml.sheet', 'mimetype_inner': None, 'name': 'ttc-streetcar-delay-data-2020\\t', 'package_id': 'b68cb71b-44a7-4394-97e2-5d2f41462a5d', 'position': 7, 'resource_type': None, 'revision_id': '00e50bc4-17df-4ff4-b2d5-091287c661e5', 'size': 500709, 'state': 'active', 'url': 'https://ckan0.cf.opendata.inter.prod-toronto.ca/dataset/b68cb71b-44a7-4394-97e2-5d2f41462a5d/resource/71b8b735-8a89-45a9-afb0-3edc38b2fad9/download/ttc-streetcar-delay-data-202009.xlsx', 'url_type': 'upload'}\n",
      "{'help': 'https://ckan0.cf.opendata.inter.prod-toronto.ca/api/3/action/help_show?name=resource_show', 'success': True, 'result': {'cache_last_updated': None, 'cache_url': None, 'created': '2020-04-28T17:01:51.308963', 'datastore_active': False, 'format': 'XLSX', 'hash': '', 'id': '71b8b735-8a89-45a9-afb0-3edc38b2fad9', 'is_datastore_cache_file': False, 'is_preview': 'False', 'last_modified': '2022-04-12T17:28:44.915291', 'metadata_modified': '2022-04-12T17:28:44.978638', 'mimetype': 'application/vnd.openxmlformats-officedocument.spreadsheetml.sheet', 'mimetype_inner': None, 'name': 'ttc-streetcar-delay-data-2020\\t', 'package_id': 'b68cb71b-44a7-4394-97e2-5d2f41462a5d', 'position': 7, 'resource_type': None, 'revision_id': '00e50bc4-17df-4ff4-b2d5-091287c661e5', 'size': 500709, 'state': 'active', 'url': 'https://ckan0.cf.opendata.inter.prod-toronto.ca/dataset/b68cb71b-44a7-4394-97e2-5d2f41462a5d/resource/71b8b735-8a89-45a9-afb0-3edc38b2fad9/download/ttc-streetcar-delay-data-202009.xlsx', 'url_type': 'upload'}}\n",
      "8, ttc-streetcar-delay-data-2021, {'cache_last_updated': None, 'cache_url': None, 'created': '2021-06-29T17:41:35.424448', 'datastore_active': False, 'format': 'XLSX', 'hash': '', 'id': 'ecc4f0a8-25e6-40d8-ae70-8006e38c4f9a', 'is_datastore_cache_file': False, 'is_preview': 'False', 'last_modified': '2022-04-06T14:43:57', 'metadata_modified': '2022-04-12T18:45:51.065262', 'mimetype': 'application/vnd.openxmlformats-officedocument.spreadsheetml.sheet', 'mimetype_inner': None, 'name': 'ttc-streetcar-delay-data-2021', 'package_id': 'b68cb71b-44a7-4394-97e2-5d2f41462a5d', 'position': 8, 'resource_type': None, 'revision_id': '07c1ea1e-1420-4340-a2c1-20c3a3fcff95', 'size': 535423, 'state': 'active', 'url': 'https://ckan0.cf.opendata.inter.prod-toronto.ca/dataset/b68cb71b-44a7-4394-97e2-5d2f41462a5d/resource/ecc4f0a8-25e6-40d8-ae70-8006e38c4f9a/download/ttc-streetcar-delay-data-2021.xlsx', 'url_type': 'upload'}\n",
      "{'help': 'https://ckan0.cf.opendata.inter.prod-toronto.ca/api/3/action/help_show?name=resource_show', 'success': True, 'result': {'cache_last_updated': None, 'cache_url': None, 'created': '2021-06-29T17:41:35.424448', 'datastore_active': False, 'format': 'XLSX', 'hash': '', 'id': 'ecc4f0a8-25e6-40d8-ae70-8006e38c4f9a', 'is_datastore_cache_file': False, 'is_preview': 'False', 'last_modified': '2022-04-06T14:43:57', 'metadata_modified': '2022-04-12T18:45:51.065262', 'mimetype': 'application/vnd.openxmlformats-officedocument.spreadsheetml.sheet', 'mimetype_inner': None, 'name': 'ttc-streetcar-delay-data-2021', 'package_id': 'b68cb71b-44a7-4394-97e2-5d2f41462a5d', 'position': 8, 'resource_type': None, 'revision_id': '07c1ea1e-1420-4340-a2c1-20c3a3fcff95', 'size': 535423, 'state': 'active', 'url': 'https://ckan0.cf.opendata.inter.prod-toronto.ca/dataset/b68cb71b-44a7-4394-97e2-5d2f41462a5d/resource/ecc4f0a8-25e6-40d8-ae70-8006e38c4f9a/download/ttc-streetcar-delay-data-2021.xlsx', 'url_type': 'upload'}}\n",
      "9, ttc-streetcar-delay-data-2020, {'cache_last_updated': None, 'cache_url': None, 'created': '2022-04-12T18:45:47.402508', 'datastore_active': False, 'extract_job': 'Airflow: upload_remote_files', 'format': 'XLSX', 'hash': '', 'id': '082d481b-f94f-4dee-9a5f-08eb9784053e', 'is_preview': 'False', 'last_modified': '2022-04-05T19:13:22', 'metadata_modified': '2022-04-12T19:00:13.830610', 'mimetype': 'application/vnd.openxmlformats-officedocument.spreadsheetml.sheet', 'mimetype_inner': None, 'name': 'ttc-streetcar-delay-data-2020', 'package_id': 'b68cb71b-44a7-4394-97e2-5d2f41462a5d', 'position': 9, 'resource_type': None, 'size': 500709, 'state': 'active', 'url': 'https://ckan0.cf.opendata.inter.prod-toronto.ca/dataset/b68cb71b-44a7-4394-97e2-5d2f41462a5d/resource/082d481b-f94f-4dee-9a5f-08eb9784053e/download/ttc-streetcar-delay-data-2020.xlsx', 'url_type': 'upload'}\n",
      "{'help': 'https://ckan0.cf.opendata.inter.prod-toronto.ca/api/3/action/help_show?name=resource_show', 'success': True, 'result': {'cache_last_updated': None, 'cache_url': None, 'created': '2022-04-12T18:45:47.402508', 'datastore_active': False, 'extract_job': 'Airflow: upload_remote_files', 'format': 'XLSX', 'hash': '', 'id': '082d481b-f94f-4dee-9a5f-08eb9784053e', 'is_preview': 'False', 'last_modified': '2022-04-05T19:13:22', 'metadata_modified': '2022-04-12T19:00:13.830610', 'mimetype': 'application/vnd.openxmlformats-officedocument.spreadsheetml.sheet', 'mimetype_inner': None, 'name': 'ttc-streetcar-delay-data-2020', 'package_id': 'b68cb71b-44a7-4394-97e2-5d2f41462a5d', 'position': 9, 'resource_type': None, 'size': 500709, 'state': 'active', 'url': 'https://ckan0.cf.opendata.inter.prod-toronto.ca/dataset/b68cb71b-44a7-4394-97e2-5d2f41462a5d/resource/082d481b-f94f-4dee-9a5f-08eb9784053e/download/ttc-streetcar-delay-data-2020.xlsx', 'url_type': 'upload'}}\n",
      "10, ttc-streetcar-delay-data-2022, {'cache_last_updated': None, 'cache_url': None, 'created': '2022-04-25T14:15:14.093081', 'datastore_active': False, 'extract_job': 'Airflow: upload_remote_files', 'format': 'XLSX', 'hash': '', 'id': '28547222-35fe-48b6-ac4b-ccc67d286393', 'is_preview': 'False', 'last_modified': '2023-01-23T13:54:00', 'metadata_modified': '2023-01-24T17:15:17.761189', 'mimetype': 'application/vnd.openxmlformats-officedocument.spreadsheetml.sheet', 'mimetype_inner': None, 'name': 'ttc-streetcar-delay-data-2022', 'package_id': 'b68cb71b-44a7-4394-97e2-5d2f41462a5d', 'position': 10, 'resource_type': None, 'size': 315572, 'state': 'active', 'url': 'https://ckan0.cf.opendata.inter.prod-toronto.ca/dataset/b68cb71b-44a7-4394-97e2-5d2f41462a5d/resource/28547222-35fe-48b6-ac4b-ccc67d286393/download/ttc-streetcar-delay-data-2022.xlsx', 'url_type': 'upload'}\n",
      "{'help': 'https://ckan0.cf.opendata.inter.prod-toronto.ca/api/3/action/help_show?name=resource_show', 'success': True, 'result': {'cache_last_updated': None, 'cache_url': None, 'created': '2022-04-25T14:15:14.093081', 'datastore_active': False, 'extract_job': 'Airflow: upload_remote_files', 'format': 'XLSX', 'hash': '', 'id': '28547222-35fe-48b6-ac4b-ccc67d286393', 'is_preview': 'False', 'last_modified': '2023-01-23T13:54:00', 'metadata_modified': '2023-01-24T17:15:17.761189', 'mimetype': 'application/vnd.openxmlformats-officedocument.spreadsheetml.sheet', 'mimetype_inner': None, 'name': 'ttc-streetcar-delay-data-2022', 'package_id': 'b68cb71b-44a7-4394-97e2-5d2f41462a5d', 'position': 10, 'resource_type': None, 'size': 315572, 'state': 'active', 'url': 'https://ckan0.cf.opendata.inter.prod-toronto.ca/dataset/b68cb71b-44a7-4394-97e2-5d2f41462a5d/resource/28547222-35fe-48b6-ac4b-ccc67d286393/download/ttc-streetcar-delay-data-2022.xlsx', 'url_type': 'upload'}}\n",
      "11, ttc-streetcar-delay-data-2023, {'cache_last_updated': None, 'cache_url': None, 'created': '2023-02-21T21:30:11.405907', 'datastore_active': False, 'extract_job': 'Airflow: upload_remote_files', 'format': 'XLSX', 'hash': '', 'id': '472d838d-e41a-4616-a11b-585d26d59777', 'is_preview': 'False', 'last_modified': '2024-01-18T21:02:52', 'metadata_modified': '2024-01-18T22:15:37.258791', 'mimetype': 'application/vnd.openxmlformats-officedocument.spreadsheetml.sheet', 'mimetype_inner': None, 'name': 'ttc-streetcar-delay-data-2023', 'package_id': 'b68cb71b-44a7-4394-97e2-5d2f41462a5d', 'position': 11, 'resource_type': None, 'size': 853122, 'state': 'active', 'url': 'https://ckan0.cf.opendata.inter.prod-toronto.ca/dataset/b68cb71b-44a7-4394-97e2-5d2f41462a5d/resource/472d838d-e41a-4616-a11b-585d26d59777/download/ttc-streetcar-delay-data-2023.xlsx', 'url_type': 'upload'}\n"
     ]
    },
    {
     "name": "stdout",
     "output_type": "stream",
     "text": [
      "{'help': 'https://ckan0.cf.opendata.inter.prod-toronto.ca/api/3/action/help_show?name=resource_show', 'success': True, 'result': {'cache_last_updated': None, 'cache_url': None, 'created': '2023-02-21T21:30:11.405907', 'datastore_active': False, 'extract_job': 'Airflow: upload_remote_files', 'format': 'XLSX', 'hash': '', 'id': '472d838d-e41a-4616-a11b-585d26d59777', 'is_preview': 'False', 'last_modified': '2024-01-18T21:02:52', 'metadata_modified': '2024-01-18T22:15:37.258791', 'mimetype': 'application/vnd.openxmlformats-officedocument.spreadsheetml.sheet', 'mimetype_inner': None, 'name': 'ttc-streetcar-delay-data-2023', 'package_id': 'b68cb71b-44a7-4394-97e2-5d2f41462a5d', 'position': 11, 'resource_type': None, 'size': 853122, 'state': 'active', 'url': 'https://ckan0.cf.opendata.inter.prod-toronto.ca/dataset/b68cb71b-44a7-4394-97e2-5d2f41462a5d/resource/472d838d-e41a-4616-a11b-585d26d59777/download/ttc-streetcar-delay-data-2023.xlsx', 'url_type': 'upload'}}\n",
      "12, ttc-streetcar-delay-data-2024, {'cache_last_updated': None, 'cache_url': None, 'created': '2024-02-12T21:10:56.622203', 'datastore_active': False, 'extract_job': 'Airflow: upload_remote_files', 'format': 'XLSX', 'hash': '', 'id': '5f527714-2284-437b-958b-c02b6f21eb9d', 'is_preview': 'False', 'last_modified': '2024-02-12T20:43:55', 'metadata_modified': '2024-02-12T21:10:58.160033', 'mimetype': 'application/vnd.openxmlformats-officedocument.spreadsheetml.sheet', 'mimetype_inner': None, 'name': 'ttc-streetcar-delay-data-2024', 'package_id': 'b68cb71b-44a7-4394-97e2-5d2f41462a5d', 'position': 12, 'resource_type': None, 'size': 91628, 'state': 'active', 'url': 'https://ckan0.cf.opendata.inter.prod-toronto.ca/dataset/b68cb71b-44a7-4394-97e2-5d2f41462a5d/resource/5f527714-2284-437b-958b-c02b6f21eb9d/download/ttc-streetcar-delay-data-2024.xlsx', 'url_type': 'upload'}\n",
      "{'help': 'https://ckan0.cf.opendata.inter.prod-toronto.ca/api/3/action/help_show?name=resource_show', 'success': True, 'result': {'cache_last_updated': None, 'cache_url': None, 'created': '2024-02-12T21:10:56.622203', 'datastore_active': False, 'extract_job': 'Airflow: upload_remote_files', 'format': 'XLSX', 'hash': '', 'id': '5f527714-2284-437b-958b-c02b6f21eb9d', 'is_preview': 'False', 'last_modified': '2024-02-12T20:43:55', 'metadata_modified': '2024-02-12T21:10:58.160033', 'mimetype': 'application/vnd.openxmlformats-officedocument.spreadsheetml.sheet', 'mimetype_inner': None, 'name': 'ttc-streetcar-delay-data-2024', 'package_id': 'b68cb71b-44a7-4394-97e2-5d2f41462a5d', 'position': 12, 'resource_type': None, 'size': 91628, 'state': 'active', 'url': 'https://ckan0.cf.opendata.inter.prod-toronto.ca/dataset/b68cb71b-44a7-4394-97e2-5d2f41462a5d/resource/5f527714-2284-437b-958b-c02b6f21eb9d/download/ttc-streetcar-delay-data-2024.xlsx', 'url_type': 'upload'}}\n"
     ]
    }
   ],
   "source": [
    "import requests\n",
    "\n",
    "# Toronto Open Data is stored in a CKAN instance. It's APIs are documented here:\n",
    "# https://docs.ckan.org/en/latest/api/\n",
    "\n",
    "# To hit our API, you'll be making requests to:\n",
    "base_url = \"https://ckan0.cf.opendata.inter.prod-toronto.ca\"\n",
    "\n",
    "# Datasets are called \"packages\". Each package can contain many \"resources\"\n",
    "# To retrieve the metadata for this package and its resources, use the package name in this page's URL:\n",
    "url = base_url + \"/api/3/action/package_show\"\n",
    "params = { \"id\": \"ttc-streetcar-delay-data\"}\n",
    "package = requests.get(url, params = params).json()\n",
    "\n",
    "# To get resource data:\n",
    "for idx, resource in enumerate(package[\"result\"][\"resources\"]):\n",
    "    print('{idx}, {name}, {resource}'.format(idx=idx, name=resource['name'], resource=resource))\n",
    "\n",
    "    # To get metadata for non datastore_active resources:\n",
    "    if not resource[\"datastore_active\"]:\n",
    "        url = base_url + \"/api/3/action/resource_show?id=\" + resource[\"id\"]\n",
    "        resource_metadata = requests.get(url).json()\n",
    "        print(resource_metadata)\n",
    "        # From here, you can use the \"url\" attribute to download this file"
   ]
  },
  {
   "cell_type": "code",
   "execution_count": 2,
   "metadata": {},
   "outputs": [
    {
     "name": "stdout",
     "output_type": "stream",
     "text": [
      "XLSX resource downloaded successfully. Check 'ttc-streetcar-delay-data-readme.xlsx' file.\n",
      "XLSX resource downloaded successfully. Check 'ttc-streetcar-delay-data-2014.xlsx' file.\n",
      "XLSX resource downloaded successfully. Check 'ttc-streetcar-delay-data-2015.xlsx' file.\n",
      "XLSX resource downloaded successfully. Check 'ttc-streetcar-delay-data-2016.xlsx' file.\n",
      "XLSX resource downloaded successfully. Check 'ttc-streetcar-delay-data-2017.xlsx' file.\n",
      "XLSX resource downloaded successfully. Check 'ttc-streetcar-delay-data-2018.xlsx' file.\n",
      "XLSX resource downloaded successfully. Check 'ttc-streetcar-delay-data-2019.xlsx' file.\n",
      "XLSX resource downloaded successfully. Check 'ttc-streetcar-delay-data-2020.xlsx' file.\n",
      "XLSX resource downloaded successfully. Check 'ttc-streetcar-delay-data-2021.xlsx' file.\n",
      "XLSX resource downloaded successfully. Check 'ttc-streetcar-delay-data-2020.xlsx' file.\n",
      "XLSX resource downloaded successfully. Check 'ttc-streetcar-delay-data-2022.xlsx' file.\n",
      "XLSX resource downloaded successfully. Check 'ttc-streetcar-delay-data-2023.xlsx' file.\n",
      "XLSX resource downloaded successfully. Check 'ttc-streetcar-delay-data-2024.xlsx' file.\n"
     ]
    }
   ],
   "source": [
    "for idx, resource in enumerate(package[\"result\"][\"resources\"]):\n",
    "    xlsx_url = resource[\"url\"]\n",
    "    response = requests.get(xlsx_url)\n",
    "    \n",
    "    if response.status_code == 200:\n",
    "        resourcename = resource['name'].replace(\"\\t\",\"\") # This code is to take into account a naming error at datasource\n",
    "        \n",
    "        # Save streetcar data as .xlsx file\n",
    "        xlsx_filename = f\"{resourcename}.xlsx\"\n",
    "        with open(xlsx_filename, \"wb\") as file:\n",
    "            file.write(response.content)\n",
    "        print(f\"XLSX resource downloaded successfully. Check '{xlsx_filename}' file.\")\n",
    "    else:\n",
    "        print(\"Failed to download the XLSX resource.\")\n",
    "        break  # Exit the loop if there was an error"
   ]
  }
 ],
 "metadata": {
  "kernelspec": {
   "display_name": "Python 3 (ipykernel)",
   "language": "python",
   "name": "python3"
  },
  "language_info": {
   "codemirror_mode": {
    "name": "ipython",
    "version": 3
   },
   "file_extension": ".py",
   "mimetype": "text/x-python",
   "name": "python",
   "nbconvert_exporter": "python",
   "pygments_lexer": "ipython3",
   "version": "3.9.12"
  }
 },
 "nbformat": 4,
 "nbformat_minor": 2
}
