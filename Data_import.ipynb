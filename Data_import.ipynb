{
 "cells": [
  {
   "cell_type": "code",
   "execution_count": null,
   "id": "aa3bfa64",
   "metadata": {},
   "outputs": [],
   "source": [
    "import os\n",
    "import sys\n",
    "import seaborn as sns\n",
    "from statsforecast import StatsForecast\n",
    "from statsforecast.models import Holt, ARIMA # Possible source of errors\n",
    "from hierarchicalforecast.utils import aggregate\n",
    "from hierarchicalforecast.methods import BottomUp, MinTrace\n",
    "from hierarchicalforecast.core import HierarchicalReconciliation\n",
    "from sklearn.metrics import mean_squared_error\n",
    "\n",
    "import pandas as pd\n",
    "import numpy as np\n",
    "import matplotlib.pyplot as plt\n",
    "from matplotlib.backends.backend_pdf import PdfPages\n",
    "import matplotlib.dates as mdates\n",
    "from statsmodels.tsa.arima_model import ARIMA # Possible source of errors\n",
    "\n",
    "import datetime as dt\n",
    "import pycountry\n",
    "import country_converter as coco\n",
    "\n",
    "rn_con_col_names = ['Country','Code','Year','Other','Solar','Wind','Hydro']\n",
    "rn_cap_col_names = ['Country','Code','Year','Wind','Hydro','Solar','Other']\n",
    "\n",
    "rn_con = pd.read_csv('data/modern-renewable-energy-consumption.csv',\n",
    "                     header=0,\n",
    "                     names=rn_con_col_names)\n",
    "rn_cap = pd.read_csv('data/modern-renewable-prod.csv',\n",
    "                     header=0,\n",
    "                     names=rn_cap_col_names)\n",
    "\n",
    "rn_con = rn_con[rn_cap_col_names]\n",
    "rn_cap = rn_cap[rn_cap_col_names]\n",
    "\n",
    "rn_con['Continents'] = np.nan\n",
    "rn_cap['Continents'] = np.nan\n",
    "\n",
    "rn_con.info()\n",
    "rn_cap.info()"
   ]
  }
 ],
 "metadata": {
  "kernelspec": {
   "display_name": "Python 3 (ipykernel)",
   "language": "python",
   "name": "python3"
  },
  "language_info": {
   "codemirror_mode": {
    "name": "ipython",
    "version": 3
   },
   "file_extension": ".py",
   "mimetype": "text/x-python",
   "name": "python",
   "nbconvert_exporter": "python",
   "pygments_lexer": "ipython3",
   "version": "3.11.4"
  }
 },
 "nbformat": 4,
 "nbformat_minor": 5
}
