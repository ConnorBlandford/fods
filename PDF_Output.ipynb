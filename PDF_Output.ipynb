{
 "cells": [
  {
   "cell_type": "code",
   "execution_count": null,
   "id": "243daf74",
   "metadata": {},
   "outputs": [],
   "source": [
    "## Requires a folder named 'Output' to exist in the path of the working directory\n",
    "fig_array = []\n",
    "fig_title = 'Output File 1' #Name of output file\n",
    "\n",
    "figure_title = 'Plot 1' # Title for plot\n",
    "fig, ax      = plt.subplots(nrows=1, ncols=1)\n",
    "group.plot(kind='line',x='Year', title=f\"{figure_title}\", ax=ax)\n",
    "ax.set_ylabel('Energy Consumed [TWh]')\n",
    "ax.set_xlabel('Year')\n",
    "fig_array.append(fig)\n",
    "\n",
    "with PdfPages(f'Output/{fig_title}.pdf') as pdf:\n",
    "    for fig in fig_array:\n",
    "        pdf.savefig(fig)  # saves the current figure into a pdf page\n",
    "\n",
    "    # We can also set the file's metadata via the PdfPages object:\n",
    "    d = pdf.infodict()\n",
    "    d['Title'] = f'South American Energy Consumption by Country'\n",
    "    d['Author'] = 'Connor Blandford'\n",
    "    d['CreationDate'] = dt.datetime.today()"
   ]
  }
 ],
 "metadata": {
  "kernelspec": {
   "display_name": "Python 3 (ipykernel)",
   "language": "python",
   "name": "python3"
  },
  "language_info": {
   "codemirror_mode": {
    "name": "ipython",
    "version": 3
   },
   "file_extension": ".py",
   "mimetype": "text/x-python",
   "name": "python",
   "nbconvert_exporter": "python",
   "pygments_lexer": "ipython3",
   "version": "3.11.4"
  }
 },
 "nbformat": 4,
 "nbformat_minor": 5
}
